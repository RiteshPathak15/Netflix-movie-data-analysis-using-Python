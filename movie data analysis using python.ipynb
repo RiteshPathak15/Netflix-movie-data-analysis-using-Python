{
 "cells": [
  {
   "cell_type": "markdown",
   "id": "142a3b90",
   "metadata": {},
   "source": [
    "**Importing the necessary library**"
   ]
  },
  {
   "cell_type": "code",
   "execution_count": 149,
   "id": "f5c6235d",
   "metadata": {},
   "outputs": [],
   "source": [
    "import matplotlib.pyplot as plt\n",
    "import pandas as pd\n",
    "import numpy as np\n",
    "import seaborn as sns"
   ]
  },
  {
   "cell_type": "code",
   "execution_count": 150,
   "id": "a099c597",
   "metadata": {},
   "outputs": [
    {
     "data": {
      "application/vnd.microsoft.datawrangler.viewer.v0+json": {
       "columns": [
        {
         "name": "index",
         "rawType": "int64",
         "type": "integer"
        },
        {
         "name": "Release_Date",
         "rawType": "object",
         "type": "string"
        },
        {
         "name": "Title",
         "rawType": "object",
         "type": "string"
        },
        {
         "name": "Overview",
         "rawType": "object",
         "type": "string"
        },
        {
         "name": "Popularity",
         "rawType": "float64",
         "type": "float"
        },
        {
         "name": "Vote_Count",
         "rawType": "object",
         "type": "string"
        },
        {
         "name": "Vote_Average",
         "rawType": "object",
         "type": "string"
        },
        {
         "name": "Original_Language",
         "rawType": "object",
         "type": "string"
        },
        {
         "name": "Genre",
         "rawType": "object",
         "type": "string"
        },
        {
         "name": "Poster_Url",
         "rawType": "object",
         "type": "string"
        }
       ],
       "conversionMethod": "pd.DataFrame",
       "ref": "0d562fa3-3b5b-4229-86fa-b564be41a451",
       "rows": [
        [
         "0",
         "2021-12-15",
         "Spider-Man: No Way Home",
         "Peter Parker is unmasked and no longer able to separate his normal life from the high-stakes of being a super-hero. When he asks for help from Doctor Strange the stakes become even more dangerous, forcing him to discover what it truly means to be Spider-Man.",
         "5083.954",
         "8940",
         "8.3",
         "en",
         "Action, Adventure, Science Fiction",
         "https://image.tmdb.org/t/p/original/1g0dhYtq4irTY1GPXvft6k4YLjm.jpg"
        ],
        [
         "1",
         "2022-03-01",
         "The Batman",
         "In his second year of fighting crime, Batman uncovers corruption in Gotham City that connects to his own family while facing a serial killer known as the Riddler.",
         "3827.658",
         "1151",
         "8.1",
         "en",
         "Crime, Mystery, Thriller",
         "https://image.tmdb.org/t/p/original/74xTEgt7R36Fpooo50r9T25onhq.jpg"
        ],
        [
         "2",
         "2022-02-25",
         "No Exit",
         "Stranded at a rest stop in the mountains during a blizzard, a recovering addict discovers a kidnapped child hidden in a car belonging to one of the people inside the building which sets her on a terrifying struggle to identify who among them is the kidnapper.",
         "2618.087",
         "122",
         "6.3",
         "en",
         "Thriller",
         "https://image.tmdb.org/t/p/original/vDHsLnOWKlPGmWs0kGfuhNF4w5l.jpg"
        ],
        [
         "3",
         "2021-11-24",
         "Encanto",
         "The tale of an extraordinary family, the Madrigals, who live hidden in the mountains of Colombia, in a magical house, in a vibrant town, in a wondrous, charmed place called an Encanto. The magic of the Encanto has blessed every child in the family with a unique gift from super strength to the power to heal—every child except one, Mirabel. But when she discovers that the magic surrounding the Encanto is in danger, Mirabel decides that she, the only ordinary Madrigal, might just be her exceptional family's last hope.",
         "2402.201",
         "5076",
         "7.7",
         "en",
         "Animation, Comedy, Family, Fantasy",
         "https://image.tmdb.org/t/p/original/4j0PNHkMr5ax3IA8tjtxcmPU3QT.jpg"
        ],
        [
         "4",
         "2021-12-22",
         "The King's Man",
         "As a collection of history's worst tyrants and criminal masterminds gather to plot a war to wipe out millions, one man must race against time to stop them.",
         "1895.511",
         "1793",
         "7.0",
         "en",
         "Action, Adventure, Thriller, War",
         "https://image.tmdb.org/t/p/original/aq4Pwv5Xeuvj6HZKtxyd23e6bE9.jpg"
        ]
       ],
       "shape": {
        "columns": 9,
        "rows": 5
       }
      },
      "text/html": [
       "<div>\n",
       "<style scoped>\n",
       "    .dataframe tbody tr th:only-of-type {\n",
       "        vertical-align: middle;\n",
       "    }\n",
       "\n",
       "    .dataframe tbody tr th {\n",
       "        vertical-align: top;\n",
       "    }\n",
       "\n",
       "    .dataframe thead th {\n",
       "        text-align: right;\n",
       "    }\n",
       "</style>\n",
       "<table border=\"1\" class=\"dataframe\">\n",
       "  <thead>\n",
       "    <tr style=\"text-align: right;\">\n",
       "      <th></th>\n",
       "      <th>Release_Date</th>\n",
       "      <th>Title</th>\n",
       "      <th>Overview</th>\n",
       "      <th>Popularity</th>\n",
       "      <th>Vote_Count</th>\n",
       "      <th>Vote_Average</th>\n",
       "      <th>Original_Language</th>\n",
       "      <th>Genre</th>\n",
       "      <th>Poster_Url</th>\n",
       "    </tr>\n",
       "  </thead>\n",
       "  <tbody>\n",
       "    <tr>\n",
       "      <th>0</th>\n",
       "      <td>2021-12-15</td>\n",
       "      <td>Spider-Man: No Way Home</td>\n",
       "      <td>Peter Parker is unmasked and no longer able to...</td>\n",
       "      <td>5083.954</td>\n",
       "      <td>8940</td>\n",
       "      <td>8.3</td>\n",
       "      <td>en</td>\n",
       "      <td>Action, Adventure, Science Fiction</td>\n",
       "      <td>https://image.tmdb.org/t/p/original/1g0dhYtq4i...</td>\n",
       "    </tr>\n",
       "    <tr>\n",
       "      <th>1</th>\n",
       "      <td>2022-03-01</td>\n",
       "      <td>The Batman</td>\n",
       "      <td>In his second year of fighting crime, Batman u...</td>\n",
       "      <td>3827.658</td>\n",
       "      <td>1151</td>\n",
       "      <td>8.1</td>\n",
       "      <td>en</td>\n",
       "      <td>Crime, Mystery, Thriller</td>\n",
       "      <td>https://image.tmdb.org/t/p/original/74xTEgt7R3...</td>\n",
       "    </tr>\n",
       "    <tr>\n",
       "      <th>2</th>\n",
       "      <td>2022-02-25</td>\n",
       "      <td>No Exit</td>\n",
       "      <td>Stranded at a rest stop in the mountains durin...</td>\n",
       "      <td>2618.087</td>\n",
       "      <td>122</td>\n",
       "      <td>6.3</td>\n",
       "      <td>en</td>\n",
       "      <td>Thriller</td>\n",
       "      <td>https://image.tmdb.org/t/p/original/vDHsLnOWKl...</td>\n",
       "    </tr>\n",
       "    <tr>\n",
       "      <th>3</th>\n",
       "      <td>2021-11-24</td>\n",
       "      <td>Encanto</td>\n",
       "      <td>The tale of an extraordinary family, the Madri...</td>\n",
       "      <td>2402.201</td>\n",
       "      <td>5076</td>\n",
       "      <td>7.7</td>\n",
       "      <td>en</td>\n",
       "      <td>Animation, Comedy, Family, Fantasy</td>\n",
       "      <td>https://image.tmdb.org/t/p/original/4j0PNHkMr5...</td>\n",
       "    </tr>\n",
       "    <tr>\n",
       "      <th>4</th>\n",
       "      <td>2021-12-22</td>\n",
       "      <td>The King's Man</td>\n",
       "      <td>As a collection of history's worst tyrants and...</td>\n",
       "      <td>1895.511</td>\n",
       "      <td>1793</td>\n",
       "      <td>7.0</td>\n",
       "      <td>en</td>\n",
       "      <td>Action, Adventure, Thriller, War</td>\n",
       "      <td>https://image.tmdb.org/t/p/original/aq4Pwv5Xeu...</td>\n",
       "    </tr>\n",
       "  </tbody>\n",
       "</table>\n",
       "</div>"
      ],
      "text/plain": [
       "  Release_Date                    Title  \\\n",
       "0   2021-12-15  Spider-Man: No Way Home   \n",
       "1   2022-03-01               The Batman   \n",
       "2   2022-02-25                  No Exit   \n",
       "3   2021-11-24                  Encanto   \n",
       "4   2021-12-22           The King's Man   \n",
       "\n",
       "                                            Overview  Popularity Vote_Count  \\\n",
       "0  Peter Parker is unmasked and no longer able to...    5083.954       8940   \n",
       "1  In his second year of fighting crime, Batman u...    3827.658       1151   \n",
       "2  Stranded at a rest stop in the mountains durin...    2618.087        122   \n",
       "3  The tale of an extraordinary family, the Madri...    2402.201       5076   \n",
       "4  As a collection of history's worst tyrants and...    1895.511       1793   \n",
       "\n",
       "  Vote_Average Original_Language                               Genre  \\\n",
       "0          8.3                en  Action, Adventure, Science Fiction   \n",
       "1          8.1                en            Crime, Mystery, Thriller   \n",
       "2          6.3                en                            Thriller   \n",
       "3          7.7                en  Animation, Comedy, Family, Fantasy   \n",
       "4          7.0                en    Action, Adventure, Thriller, War   \n",
       "\n",
       "                                          Poster_Url  \n",
       "0  https://image.tmdb.org/t/p/original/1g0dhYtq4i...  \n",
       "1  https://image.tmdb.org/t/p/original/74xTEgt7R3...  \n",
       "2  https://image.tmdb.org/t/p/original/vDHsLnOWKl...  \n",
       "3  https://image.tmdb.org/t/p/original/4j0PNHkMr5...  \n",
       "4  https://image.tmdb.org/t/p/original/aq4Pwv5Xeu...  "
      ]
     },
     "execution_count": 150,
     "metadata": {},
     "output_type": "execute_result"
    }
   ],
   "source": [
    "#import the dataset in the form of a pandas dataframe\n",
    "\n",
    "try:\n",
    "    df = pd.read_csv('C:/Users/patha/OneDrive - student.mes.ac.in/Documents/GitHub/Netflix movie data analysis using Python/mymoviedb.csv', engine='python', on_bad_lines='skip')\n",
    "except FileNotFoundError:\n",
    "    print(\"File not found. Please check the file path.\")\n",
    "except Exception as e:\n",
    "    print(f\"An error occurred: {e}\")\n",
    "\n",
    "df.head()\n"
   ]
  },
  {
   "cell_type": "code",
   "execution_count": 151,
   "id": "5e2d4a2c",
   "metadata": {},
   "outputs": [
    {
     "data": {
      "text/plain": [
       "(9837, 9)"
      ]
     },
     "execution_count": 151,
     "metadata": {},
     "output_type": "execute_result"
    }
   ],
   "source": [
    "# check the shape(rows, column) of the dataframe\n",
    "df.shape"
   ]
  },
  {
   "cell_type": "code",
   "execution_count": 152,
   "id": "b90b6272",
   "metadata": {},
   "outputs": [
    {
     "name": "stdout",
     "output_type": "stream",
     "text": [
      "<class 'pandas.core.frame.DataFrame'>\n",
      "RangeIndex: 9837 entries, 0 to 9836\n",
      "Data columns (total 9 columns):\n",
      " #   Column             Non-Null Count  Dtype  \n",
      "---  ------             --------------  -----  \n",
      " 0   Release_Date       9837 non-null   object \n",
      " 1   Title              9828 non-null   object \n",
      " 2   Overview           9828 non-null   object \n",
      " 3   Popularity         9827 non-null   float64\n",
      " 4   Vote_Count         9827 non-null   object \n",
      " 5   Vote_Average       9827 non-null   object \n",
      " 6   Original_Language  9827 non-null   object \n",
      " 7   Genre              9826 non-null   object \n",
      " 8   Poster_Url         9826 non-null   object \n",
      "dtypes: float64(1), object(8)\n",
      "memory usage: 691.8+ KB\n"
     ]
    }
   ],
   "source": [
    "# info is used to get the information about the dataframe\n",
    "# it will show the number of rows and columns, datatypes of each column, and memory usage\n",
    "df.info()"
   ]
  },
  {
   "cell_type": "code",
   "execution_count": 153,
   "id": "c21d69a2",
   "metadata": {},
   "outputs": [
    {
     "name": "stdout",
     "output_type": "stream",
     "text": [
      "<class 'pandas.core.frame.DataFrame'>\n",
      "RangeIndex: 9837 entries, 0 to 9836\n",
      "Data columns (total 9 columns):\n",
      " #   Column             Non-Null Count  Dtype         \n",
      "---  ------             --------------  -----         \n",
      " 0   Release_Date       9827 non-null   datetime64[ns]\n",
      " 1   Title              9828 non-null   object        \n",
      " 2   Overview           9828 non-null   object        \n",
      " 3   Popularity         9827 non-null   float64       \n",
      " 4   Vote_Count         9826 non-null   float64       \n",
      " 5   Vote_Average       9826 non-null   float64       \n",
      " 6   Original_Language  9827 non-null   object        \n",
      " 7   Genre              9826 non-null   object        \n",
      " 8   Poster_Url         9826 non-null   object        \n",
      "dtypes: datetime64[ns](1), float64(3), object(5)\n",
      "memory usage: 691.8+ KB\n"
     ]
    }
   ],
   "source": [
    "# Changing the data type of the 'release_date' column to datetime\n",
    "df['Release_Date'] = pd.to_datetime(df['Release_Date'], errors='coerce')\n",
    "# Changing the data type of the 'Vote_Count' column to numeric\n",
    "# This will convert the column to numeric, setting errors='coerce' will replace non-convertible values with NaN\n",
    "df['Vote_Count'] = pd.to_numeric(df['Vote_Count'], errors='coerce')\n",
    "# Changing the data type of the 'Vote_Average' column to numeric\n",
    "df['Vote_Average']=pd.to_numeric(df['Vote_Average'], errors='coerce')\n",
    "\n",
    "# Checking the data types of the columns after conversion\n",
    "df.info()"
   ]
  },
  {
   "cell_type": "code",
   "execution_count": 154,
   "id": "3cfd0314",
   "metadata": {},
   "outputs": [
    {
     "name": "stdout",
     "output_type": "stream",
     "text": [
      "['en' 'ja' 'fr' 'hi' 'es' 'ru' 'de' 'th' 'ko' 'tr' 'cn' 'zh' 'it' 'pt'\n",
      " 'ml' 'pl' 'fi' 'no' 'da' 'id' 'sv' None\n",
      " 'https://image.tmdb.org/t/p/original/6iXYe7AkQ1QIfMFuvXsSCT2zF7s.jpg'\n",
      " 'nl' 'te' 'sr' 'is' 'ro' 'tl' 'fa' 'uk' 'nb' 'eu' 'lv' 'ar' 'el' 'cs'\n",
      " 'ms' 'bn' 'ca' 'la' 'ta' 'hu' 'he' 'et']\n",
      "['Action, Adventure, Science Fiction' 'Crime, Mystery, Thriller'\n",
      " 'Thriller' ... 'Comedy, TV Movie, Romance'\n",
      " 'Science Fiction, Fantasy, Family, Music' 'War, Drama, Science Fiction']\n"
     ]
    }
   ],
   "source": [
    "# To see the unque values in the 'Original_Language' column\n",
    "unique_languages = df['Original_Language'].unique()\n",
    "print(unique_languages)\n",
    "\n",
    "# To see the unque values in the 'Genres' column\n",
    "unique_genres = df['Genre'].unique()\n",
    "print(unique_genres)"
   ]
  },
  {
   "cell_type": "code",
   "execution_count": 155,
   "id": "0f90d32f",
   "metadata": {},
   "outputs": [
    {
     "name": "stdout",
     "output_type": "stream",
     "text": [
      "<class 'pandas.core.frame.DataFrame'>\n",
      "RangeIndex: 9837 entries, 0 to 9836\n",
      "Data columns (total 7 columns):\n",
      " #   Column             Non-Null Count  Dtype         \n",
      "---  ------             --------------  -----         \n",
      " 0   Release_Date       9827 non-null   datetime64[ns]\n",
      " 1   Title              9828 non-null   object        \n",
      " 2   Popularity         9827 non-null   float64       \n",
      " 3   Vote_Count         9826 non-null   float64       \n",
      " 4   Vote_Average       9826 non-null   float64       \n",
      " 5   Original_Language  9827 non-null   object        \n",
      " 6   Genre              9826 non-null   object        \n",
      "dtypes: datetime64[ns](1), float64(3), object(3)\n",
      "memory usage: 538.1+ KB\n"
     ]
    }
   ],
   "source": [
    "# Drop the columns which are not useful for analysis\n",
    "df.drop(['Poster_Url', 'Overview'], axis=1,inplace=True)\n",
    "df.info()"
   ]
  },
  {
   "cell_type": "code",
   "execution_count": 156,
   "id": "80008406",
   "metadata": {},
   "outputs": [
    {
     "name": "stdout",
     "output_type": "stream",
     "text": [
      "<class 'pandas.core.frame.DataFrame'>\n",
      "Index: 9829 entries, 0 to 9836\n",
      "Data columns (total 7 columns):\n",
      " #   Column             Non-Null Count  Dtype         \n",
      "---  ------             --------------  -----         \n",
      " 0   Release_Date       9827 non-null   datetime64[ns]\n",
      " 1   Title              9828 non-null   object        \n",
      " 2   Popularity         9827 non-null   float64       \n",
      " 3   Vote_Count         9826 non-null   float64       \n",
      " 4   Vote_Average       9826 non-null   float64       \n",
      " 5   Original_Language  9827 non-null   object        \n",
      " 6   Genre              9826 non-null   object        \n",
      "dtypes: datetime64[ns](1), float64(3), object(3)\n",
      "memory usage: 614.3+ KB\n"
     ]
    }
   ],
   "source": [
    "# To remove the duplicate rows from the dataframe\n",
    "df.drop_duplicates(inplace=True)\n",
    "df.info()"
   ]
  },
  {
   "cell_type": "code",
   "execution_count": 157,
   "id": "5afc4c2b",
   "metadata": {},
   "outputs": [
    {
     "data": {
      "text/plain": [
       "Release_Date         2\n",
       "Title                1\n",
       "Popularity           2\n",
       "Vote_Count           3\n",
       "Vote_Average         3\n",
       "Original_Language    2\n",
       "Genre                3\n",
       "dtype: int64"
      ]
     },
     "execution_count": 157,
     "metadata": {},
     "output_type": "execute_result"
    }
   ],
   "source": [
    "# To check the null values in the dataframe\n",
    "df.isnull().sum()"
   ]
  },
  {
   "cell_type": "code",
   "execution_count": 158,
   "id": "8b378e34",
   "metadata": {},
   "outputs": [
    {
     "name": "stderr",
     "output_type": "stream",
     "text": [
      "C:\\Users\\patha\\AppData\\Local\\Temp\\ipykernel_12880\\2710240643.py:2: FutureWarning: A value is trying to be set on a copy of a DataFrame or Series through chained assignment using an inplace method.\n",
      "The behavior will change in pandas 3.0. This inplace method will never work because the intermediate object on which we are setting values always behaves as a copy.\n",
      "\n",
      "For example, when doing 'df[col].method(value, inplace=True)', try using 'df.method({col: value}, inplace=True)' or df[col] = df[col].method(value) instead, to perform the operation inplace on the original object.\n",
      "\n",
      "\n",
      "  df['Release_Date'].fillna(pd.Timestamp('1900-01-01'), inplace=True)\n",
      "C:\\Users\\patha\\AppData\\Local\\Temp\\ipykernel_12880\\2710240643.py:5: FutureWarning: A value is trying to be set on a copy of a DataFrame or Series through chained assignment using an inplace method.\n",
      "The behavior will change in pandas 3.0. This inplace method will never work because the intermediate object on which we are setting values always behaves as a copy.\n",
      "\n",
      "For example, when doing 'df[col].method(value, inplace=True)', try using 'df.method({col: value}, inplace=True)' or df[col] = df[col].method(value) instead, to perform the operation inplace on the original object.\n",
      "\n",
      "\n",
      "  df['Title'].fillna('Unknown', inplace=True)\n",
      "C:\\Users\\patha\\AppData\\Local\\Temp\\ipykernel_12880\\2710240643.py:8: FutureWarning: A value is trying to be set on a copy of a DataFrame or Series through chained assignment using an inplace method.\n",
      "The behavior will change in pandas 3.0. This inplace method will never work because the intermediate object on which we are setting values always behaves as a copy.\n",
      "\n",
      "For example, when doing 'df[col].method(value, inplace=True)', try using 'df.method({col: value}, inplace=True)' or df[col] = df[col].method(value) instead, to perform the operation inplace on the original object.\n",
      "\n",
      "\n",
      "  df['Popularity'].fillna(0, inplace=True)\n",
      "C:\\Users\\patha\\AppData\\Local\\Temp\\ipykernel_12880\\2710240643.py:9: FutureWarning: A value is trying to be set on a copy of a DataFrame or Series through chained assignment using an inplace method.\n",
      "The behavior will change in pandas 3.0. This inplace method will never work because the intermediate object on which we are setting values always behaves as a copy.\n",
      "\n",
      "For example, when doing 'df[col].method(value, inplace=True)', try using 'df.method({col: value}, inplace=True)' or df[col] = df[col].method(value) instead, to perform the operation inplace on the original object.\n",
      "\n",
      "\n",
      "  df['Vote_Count'].fillna(0, inplace=True)\n",
      "C:\\Users\\patha\\AppData\\Local\\Temp\\ipykernel_12880\\2710240643.py:10: FutureWarning: A value is trying to be set on a copy of a DataFrame or Series through chained assignment using an inplace method.\n",
      "The behavior will change in pandas 3.0. This inplace method will never work because the intermediate object on which we are setting values always behaves as a copy.\n",
      "\n",
      "For example, when doing 'df[col].method(value, inplace=True)', try using 'df.method({col: value}, inplace=True)' or df[col] = df[col].method(value) instead, to perform the operation inplace on the original object.\n",
      "\n",
      "\n",
      "  df['Vote_Average'].fillna(0, inplace=True)\n",
      "C:\\Users\\patha\\AppData\\Local\\Temp\\ipykernel_12880\\2710240643.py:13: FutureWarning: A value is trying to be set on a copy of a DataFrame or Series through chained assignment using an inplace method.\n",
      "The behavior will change in pandas 3.0. This inplace method will never work because the intermediate object on which we are setting values always behaves as a copy.\n",
      "\n",
      "For example, when doing 'df[col].method(value, inplace=True)', try using 'df.method({col: value}, inplace=True)' or df[col] = df[col].method(value) instead, to perform the operation inplace on the original object.\n",
      "\n",
      "\n",
      "  df['Original_Language'].fillna('Unknown', inplace=True)\n",
      "C:\\Users\\patha\\AppData\\Local\\Temp\\ipykernel_12880\\2710240643.py:16: FutureWarning: A value is trying to be set on a copy of a DataFrame or Series through chained assignment using an inplace method.\n",
      "The behavior will change in pandas 3.0. This inplace method will never work because the intermediate object on which we are setting values always behaves as a copy.\n",
      "\n",
      "For example, when doing 'df[col].method(value, inplace=True)', try using 'df.method({col: value}, inplace=True)' or df[col] = df[col].method(value) instead, to perform the operation inplace on the original object.\n",
      "\n",
      "\n",
      "  df['Genre'].fillna('Unknown', inplace=True)\n"
     ]
    }
   ],
   "source": [
    "# Fill 'Release_Date' with a placeholder date\n",
    "df['Release_Date'].fillna(pd.Timestamp('1900-01-01'), inplace=True)\n",
    "\n",
    "# Fill 'Title' with 'Unknown'\n",
    "df['Title'].fillna('Unknown', inplace=True)\n",
    "\n",
    "# Fill 'Popularity', 'Vote_Count', and 'Vote_Average' with 0\n",
    "df['Popularity'].fillna(0, inplace=True)\n",
    "df['Vote_Count'].fillna(0, inplace=True)\n",
    "df['Vote_Average'].fillna(0, inplace=True)\n",
    "\n",
    "# Fill 'Original_Language' with 'Unknown'\n",
    "df['Original_Language'].fillna('Unknown', inplace=True)\n",
    "\n",
    "# Fill 'Genre' with 'Unknown'\n",
    "df['Genre'].fillna('Unknown', inplace=True)"
   ]
  },
  {
   "cell_type": "code",
   "execution_count": 159,
   "id": "28bee67b",
   "metadata": {},
   "outputs": [
    {
     "data": {
      "text/plain": [
       "Release_Date         0\n",
       "Title                0\n",
       "Popularity           0\n",
       "Vote_Count           0\n",
       "Vote_Average         0\n",
       "Original_Language    0\n",
       "Genre                0\n",
       "dtype: int64"
      ]
     },
     "execution_count": 159,
     "metadata": {},
     "output_type": "execute_result"
    }
   ],
   "source": [
    "# To check the null values in the dataframe after filling\n",
    "\n",
    "df.isnull().sum()"
   ]
  },
  {
   "cell_type": "code",
   "execution_count": 160,
   "id": "6b8a8928",
   "metadata": {},
   "outputs": [
    {
     "name": "stdout",
     "output_type": "stream",
     "text": [
      "['Action' 'Adventure' 'Science Fiction' 'Crime' 'Mystery' 'Thriller'\n",
      " 'Animation' 'Comedy' 'Family' 'Fantasy' 'War' 'Horror' 'Drama' 'Music'\n",
      " 'Romance' 'Western' 'History' 'TV Movie' 'Documentary' 'Unknown']\n"
     ]
    },
    {
     "data": {
      "text/plain": [
       "(25795, 7)"
      ]
     },
     "execution_count": 160,
     "metadata": {},
     "output_type": "execute_result"
    }
   ],
   "source": [
    "# split the strings into lists\n",
    "df['Genre'] = df['Genre'].str.split(', ')\n",
    "# explode the lists\n",
    "df = df.explode('Genre').reset_index(drop=True)\n",
    "print(df['Genre'].unique())\n",
    "# check the shape(rows, column) of the dataframe after exploding\n",
    "df.shape"
   ]
  },
  {
   "cell_type": "code",
   "execution_count": 161,
   "id": "3b472332",
   "metadata": {},
   "outputs": [
    {
     "data": {
      "application/vnd.microsoft.datawrangler.viewer.v0+json": {
       "columns": [
        {
         "name": "index",
         "rawType": "int64",
         "type": "integer"
        },
        {
         "name": "Release_Date",
         "rawType": "datetime64[ns]",
         "type": "datetime"
        },
        {
         "name": "Title",
         "rawType": "object",
         "type": "string"
        },
        {
         "name": "Popularity",
         "rawType": "float64",
         "type": "float"
        },
        {
         "name": "Vote_Count",
         "rawType": "float64",
         "type": "float"
        },
        {
         "name": "Vote_Average",
         "rawType": "float64",
         "type": "float"
        },
        {
         "name": "Original_Language",
         "rawType": "object",
         "type": "string"
        },
        {
         "name": "Genre",
         "rawType": "object",
         "type": "string"
        }
       ],
       "conversionMethod": "pd.DataFrame",
       "ref": "d2b04a29-c783-469a-a641-6166f2c1fb50",
       "rows": [
        [
         "0",
         "2021-12-15 00:00:00",
         "Spider-Man: No Way Home",
         "5083.954",
         "8940.0",
         "8.3",
         "en",
         "Action"
        ],
        [
         "1",
         "2021-12-15 00:00:00",
         "Spider-Man: No Way Home",
         "5083.954",
         "8940.0",
         "8.3",
         "en",
         "Adventure"
        ],
        [
         "2",
         "2021-12-15 00:00:00",
         "Spider-Man: No Way Home",
         "5083.954",
         "8940.0",
         "8.3",
         "en",
         "Science Fiction"
        ],
        [
         "3",
         "2022-03-01 00:00:00",
         "The Batman",
         "3827.658",
         "1151.0",
         "8.1",
         "en",
         "Crime"
        ],
        [
         "4",
         "2022-03-01 00:00:00",
         "The Batman",
         "3827.658",
         "1151.0",
         "8.1",
         "en",
         "Mystery"
        ],
        [
         "5",
         "2022-03-01 00:00:00",
         "The Batman",
         "3827.658",
         "1151.0",
         "8.1",
         "en",
         "Thriller"
        ],
        [
         "6",
         "2022-02-25 00:00:00",
         "No Exit",
         "2618.087",
         "122.0",
         "6.3",
         "en",
         "Thriller"
        ],
        [
         "7",
         "2021-11-24 00:00:00",
         "Encanto",
         "2402.201",
         "5076.0",
         "7.7",
         "en",
         "Animation"
        ],
        [
         "8",
         "2021-11-24 00:00:00",
         "Encanto",
         "2402.201",
         "5076.0",
         "7.7",
         "en",
         "Comedy"
        ],
        [
         "9",
         "2021-11-24 00:00:00",
         "Encanto",
         "2402.201",
         "5076.0",
         "7.7",
         "en",
         "Family"
        ],
        [
         "10",
         "2021-11-24 00:00:00",
         "Encanto",
         "2402.201",
         "5076.0",
         "7.7",
         "en",
         "Fantasy"
        ],
        [
         "11",
         "2021-12-22 00:00:00",
         "The King's Man",
         "1895.511",
         "1793.0",
         "7.0",
         "en",
         "Action"
        ],
        [
         "12",
         "2021-12-22 00:00:00",
         "The King's Man",
         "1895.511",
         "1793.0",
         "7.0",
         "en",
         "Adventure"
        ],
        [
         "13",
         "2021-12-22 00:00:00",
         "The King's Man",
         "1895.511",
         "1793.0",
         "7.0",
         "en",
         "Thriller"
        ],
        [
         "14",
         "2021-12-22 00:00:00",
         "The King's Man",
         "1895.511",
         "1793.0",
         "7.0",
         "en",
         "War"
        ],
        [
         "15",
         "2022-01-07 00:00:00",
         "The Commando",
         "1750.484",
         "33.0",
         "6.6",
         "en",
         "Action"
        ],
        [
         "16",
         "2022-01-07 00:00:00",
         "The Commando",
         "1750.484",
         "33.0",
         "6.6",
         "en",
         "Crime"
        ],
        [
         "17",
         "2022-01-07 00:00:00",
         "The Commando",
         "1750.484",
         "33.0",
         "6.6",
         "en",
         "Thriller"
        ],
        [
         "18",
         "2022-01-12 00:00:00",
         "Scream",
         "1675.161",
         "821.0",
         "6.8",
         "en",
         "Horror"
        ],
        [
         "19",
         "2022-01-12 00:00:00",
         "Scream",
         "1675.161",
         "821.0",
         "6.8",
         "en",
         "Mystery"
        ],
        [
         "20",
         "2022-01-12 00:00:00",
         "Scream",
         "1675.161",
         "821.0",
         "6.8",
         "en",
         "Thriller"
        ],
        [
         "21",
         "2022-02-10 00:00:00",
         "Kimi",
         "1601.782",
         "206.0",
         "6.3",
         "en",
         "Thriller"
        ],
        [
         "22",
         "2022-02-17 00:00:00",
         "Fistful of Vengeance",
         "1594.013",
         "114.0",
         "5.3",
         "en",
         "Action"
        ],
        [
         "23",
         "2022-02-17 00:00:00",
         "Fistful of Vengeance",
         "1594.013",
         "114.0",
         "5.3",
         "en",
         "Crime"
        ],
        [
         "24",
         "2022-02-17 00:00:00",
         "Fistful of Vengeance",
         "1594.013",
         "114.0",
         "5.3",
         "en",
         "Fantasy"
        ],
        [
         "25",
         "2021-11-03 00:00:00",
         "Eternals",
         "1537.406",
         "4726.0",
         "7.2",
         "en",
         "Science Fiction"
        ],
        [
         "26",
         "2022-02-18 00:00:00",
         "Pursuit",
         "1500.523",
         "16.0",
         "5.9",
         "en",
         "Action"
        ],
        [
         "27",
         "2022-02-18 00:00:00",
         "Pursuit",
         "1500.523",
         "16.0",
         "5.9",
         "en",
         "Crime"
        ],
        [
         "28",
         "2022-02-18 00:00:00",
         "Pursuit",
         "1500.523",
         "16.0",
         "5.9",
         "en",
         "Thriller"
        ],
        [
         "29",
         "2021-08-06 00:00:00",
         "My Hero Academia: World Heroes' Mission",
         "1485.064",
         "100.0",
         "7.3",
         "ja",
         "Animation"
        ],
        [
         "30",
         "2021-08-06 00:00:00",
         "My Hero Academia: World Heroes' Mission",
         "1485.064",
         "100.0",
         "7.3",
         "ja",
         "Action"
        ],
        [
         "31",
         "2021-08-06 00:00:00",
         "My Hero Academia: World Heroes' Mission",
         "1485.064",
         "100.0",
         "7.3",
         "ja",
         "Fantasy"
        ],
        [
         "32",
         "2021-08-06 00:00:00",
         "My Hero Academia: World Heroes' Mission",
         "1485.064",
         "100.0",
         "7.3",
         "ja",
         "Adventure"
        ],
        [
         "33",
         "2022-02-25 00:00:00",
         "Restless",
         "1468.377",
         "107.0",
         "5.9",
         "fr",
         "Action"
        ],
        [
         "34",
         "2022-02-25 00:00:00",
         "Restless",
         "1468.377",
         "107.0",
         "5.9",
         "fr",
         "Thriller"
        ],
        [
         "35",
         "2022-02-25 00:00:00",
         "Restless",
         "1468.377",
         "107.0",
         "5.9",
         "fr",
         "Crime"
        ],
        [
         "36",
         "2021-12-02 00:00:00",
         "Nightmare Alley",
         "1455.144",
         "952.0",
         "7.1",
         "en",
         "Crime"
        ],
        [
         "37",
         "2021-12-02 00:00:00",
         "Nightmare Alley",
         "1455.144",
         "952.0",
         "7.1",
         "en",
         "Drama"
        ],
        [
         "38",
         "2021-12-02 00:00:00",
         "Nightmare Alley",
         "1455.144",
         "952.0",
         "7.1",
         "en",
         "Thriller"
        ],
        [
         "39",
         "2022-01-28 00:00:00",
         "The Ice Age Adventures of Buck Wild",
         "1431.307",
         "737.0",
         "7.1",
         "en",
         "Animation"
        ],
        [
         "40",
         "2022-01-28 00:00:00",
         "The Ice Age Adventures of Buck Wild",
         "1431.307",
         "737.0",
         "7.1",
         "en",
         "Comedy"
        ],
        [
         "41",
         "2022-01-28 00:00:00",
         "The Ice Age Adventures of Buck Wild",
         "1431.307",
         "737.0",
         "7.1",
         "en",
         "Adventure"
        ],
        [
         "42",
         "2022-01-28 00:00:00",
         "The Ice Age Adventures of Buck Wild",
         "1431.307",
         "737.0",
         "7.1",
         "en",
         "Family"
        ],
        [
         "43",
         "2022-02-25 00:00:00",
         "Hotel Transylvania: Transformania",
         "1373.778",
         "288.0",
         "7.0",
         "en",
         "Animation"
        ],
        [
         "44",
         "2022-02-25 00:00:00",
         "Hotel Transylvania: Transformania",
         "1373.778",
         "288.0",
         "7.0",
         "en",
         "Family"
        ],
        [
         "45",
         "2022-02-25 00:00:00",
         "Hotel Transylvania: Transformania",
         "1373.778",
         "288.0",
         "7.0",
         "en",
         "Fantasy"
        ],
        [
         "46",
         "2022-02-25 00:00:00",
         "Hotel Transylvania: Transformania",
         "1373.778",
         "288.0",
         "7.0",
         "en",
         "Comedy"
        ],
        [
         "47",
         "2022-02-25 00:00:00",
         "Hotel Transylvania: Transformania",
         "1373.778",
         "288.0",
         "7.0",
         "en",
         "Adventure"
        ],
        [
         "48",
         "2022-02-18 00:00:00",
         "Texas Chainsaw Massacre",
         "1312.79",
         "521.0",
         "5.1",
         "en",
         "Horror"
        ],
        [
         "49",
         "2022-01-28 00:00:00",
         "The Requin",
         "1252.317",
         "65.0",
         "4.6",
         "en",
         "Thriller"
        ]
       ],
       "shape": {
        "columns": 7,
        "rows": 25795
       }
      },
      "text/html": [
       "<div>\n",
       "<style scoped>\n",
       "    .dataframe tbody tr th:only-of-type {\n",
       "        vertical-align: middle;\n",
       "    }\n",
       "\n",
       "    .dataframe tbody tr th {\n",
       "        vertical-align: top;\n",
       "    }\n",
       "\n",
       "    .dataframe thead th {\n",
       "        text-align: right;\n",
       "    }\n",
       "</style>\n",
       "<table border=\"1\" class=\"dataframe\">\n",
       "  <thead>\n",
       "    <tr style=\"text-align: right;\">\n",
       "      <th></th>\n",
       "      <th>Release_Date</th>\n",
       "      <th>Title</th>\n",
       "      <th>Popularity</th>\n",
       "      <th>Vote_Count</th>\n",
       "      <th>Vote_Average</th>\n",
       "      <th>Original_Language</th>\n",
       "      <th>Genre</th>\n",
       "    </tr>\n",
       "  </thead>\n",
       "  <tbody>\n",
       "    <tr>\n",
       "      <th>0</th>\n",
       "      <td>2021-12-15</td>\n",
       "      <td>Spider-Man: No Way Home</td>\n",
       "      <td>5083.954</td>\n",
       "      <td>8940.0</td>\n",
       "      <td>8.3</td>\n",
       "      <td>en</td>\n",
       "      <td>Action</td>\n",
       "    </tr>\n",
       "    <tr>\n",
       "      <th>1</th>\n",
       "      <td>2021-12-15</td>\n",
       "      <td>Spider-Man: No Way Home</td>\n",
       "      <td>5083.954</td>\n",
       "      <td>8940.0</td>\n",
       "      <td>8.3</td>\n",
       "      <td>en</td>\n",
       "      <td>Adventure</td>\n",
       "    </tr>\n",
       "    <tr>\n",
       "      <th>2</th>\n",
       "      <td>2021-12-15</td>\n",
       "      <td>Spider-Man: No Way Home</td>\n",
       "      <td>5083.954</td>\n",
       "      <td>8940.0</td>\n",
       "      <td>8.3</td>\n",
       "      <td>en</td>\n",
       "      <td>Science Fiction</td>\n",
       "    </tr>\n",
       "    <tr>\n",
       "      <th>3</th>\n",
       "      <td>2022-03-01</td>\n",
       "      <td>The Batman</td>\n",
       "      <td>3827.658</td>\n",
       "      <td>1151.0</td>\n",
       "      <td>8.1</td>\n",
       "      <td>en</td>\n",
       "      <td>Crime</td>\n",
       "    </tr>\n",
       "    <tr>\n",
       "      <th>4</th>\n",
       "      <td>2022-03-01</td>\n",
       "      <td>The Batman</td>\n",
       "      <td>3827.658</td>\n",
       "      <td>1151.0</td>\n",
       "      <td>8.1</td>\n",
       "      <td>en</td>\n",
       "      <td>Mystery</td>\n",
       "    </tr>\n",
       "    <tr>\n",
       "      <th>...</th>\n",
       "      <td>...</td>\n",
       "      <td>...</td>\n",
       "      <td>...</td>\n",
       "      <td>...</td>\n",
       "      <td>...</td>\n",
       "      <td>...</td>\n",
       "      <td>...</td>\n",
       "    </tr>\n",
       "    <tr>\n",
       "      <th>25790</th>\n",
       "      <td>2021-03-31</td>\n",
       "      <td>The United States vs. Billie Holiday</td>\n",
       "      <td>13.354</td>\n",
       "      <td>152.0</td>\n",
       "      <td>6.7</td>\n",
       "      <td>en</td>\n",
       "      <td>Drama</td>\n",
       "    </tr>\n",
       "    <tr>\n",
       "      <th>25791</th>\n",
       "      <td>2021-03-31</td>\n",
       "      <td>The United States vs. Billie Holiday</td>\n",
       "      <td>13.354</td>\n",
       "      <td>152.0</td>\n",
       "      <td>6.7</td>\n",
       "      <td>en</td>\n",
       "      <td>History</td>\n",
       "    </tr>\n",
       "    <tr>\n",
       "      <th>25792</th>\n",
       "      <td>1984-09-23</td>\n",
       "      <td>Threads</td>\n",
       "      <td>13.354</td>\n",
       "      <td>186.0</td>\n",
       "      <td>7.8</td>\n",
       "      <td>en</td>\n",
       "      <td>War</td>\n",
       "    </tr>\n",
       "    <tr>\n",
       "      <th>25793</th>\n",
       "      <td>1984-09-23</td>\n",
       "      <td>Threads</td>\n",
       "      <td>13.354</td>\n",
       "      <td>186.0</td>\n",
       "      <td>7.8</td>\n",
       "      <td>en</td>\n",
       "      <td>Drama</td>\n",
       "    </tr>\n",
       "    <tr>\n",
       "      <th>25794</th>\n",
       "      <td>1984-09-23</td>\n",
       "      <td>Threads</td>\n",
       "      <td>13.354</td>\n",
       "      <td>186.0</td>\n",
       "      <td>7.8</td>\n",
       "      <td>en</td>\n",
       "      <td>Science Fiction</td>\n",
       "    </tr>\n",
       "  </tbody>\n",
       "</table>\n",
       "<p>25795 rows × 7 columns</p>\n",
       "</div>"
      ],
      "text/plain": [
       "      Release_Date                                 Title  Popularity  \\\n",
       "0       2021-12-15               Spider-Man: No Way Home    5083.954   \n",
       "1       2021-12-15               Spider-Man: No Way Home    5083.954   \n",
       "2       2021-12-15               Spider-Man: No Way Home    5083.954   \n",
       "3       2022-03-01                            The Batman    3827.658   \n",
       "4       2022-03-01                            The Batman    3827.658   \n",
       "...            ...                                   ...         ...   \n",
       "25790   2021-03-31  The United States vs. Billie Holiday      13.354   \n",
       "25791   2021-03-31  The United States vs. Billie Holiday      13.354   \n",
       "25792   1984-09-23                               Threads      13.354   \n",
       "25793   1984-09-23                               Threads      13.354   \n",
       "25794   1984-09-23                               Threads      13.354   \n",
       "\n",
       "       Vote_Count  Vote_Average Original_Language            Genre  \n",
       "0          8940.0           8.3                en           Action  \n",
       "1          8940.0           8.3                en        Adventure  \n",
       "2          8940.0           8.3                en  Science Fiction  \n",
       "3          1151.0           8.1                en            Crime  \n",
       "4          1151.0           8.1                en          Mystery  \n",
       "...           ...           ...               ...              ...  \n",
       "25790       152.0           6.7                en            Drama  \n",
       "25791       152.0           6.7                en          History  \n",
       "25792       186.0           7.8                en              War  \n",
       "25793       186.0           7.8                en            Drama  \n",
       "25794       186.0           7.8                en  Science Fiction  \n",
       "\n",
       "[25795 rows x 7 columns]"
      ]
     },
     "execution_count": 161,
     "metadata": {},
     "output_type": "execute_result"
    }
   ],
   "source": [
    "df"
   ]
  },
  {
   "cell_type": "code",
   "execution_count": 162,
   "id": "323c615e",
   "metadata": {},
   "outputs": [
    {
     "data": {
      "text/plain": [
       "Release_Date         datetime64[ns]\n",
       "Title                        object\n",
       "Popularity                  float64\n",
       "Vote_Count                  float64\n",
       "Vote_Average                float64\n",
       "Original_Language            object\n",
       "Genre                        object\n",
       "dtype: object"
      ]
     },
     "execution_count": 162,
     "metadata": {},
     "output_type": "execute_result"
    }
   ],
   "source": [
    "df.dtypes"
   ]
  },
  {
   "cell_type": "code",
   "execution_count": 163,
   "id": "d9526114",
   "metadata": {},
   "outputs": [],
   "source": [
    "df['Genre']=df['Genre'].astype('category')"
   ]
  },
  {
   "cell_type": "code",
   "execution_count": 164,
   "id": "4bae7ca4",
   "metadata": {},
   "outputs": [
    {
     "name": "stdout",
     "output_type": "stream",
     "text": [
      "<class 'pandas.core.frame.DataFrame'>\n",
      "RangeIndex: 25795 entries, 0 to 25794\n",
      "Data columns (total 7 columns):\n",
      " #   Column             Non-Null Count  Dtype         \n",
      "---  ------             --------------  -----         \n",
      " 0   Release_Date       25795 non-null  datetime64[ns]\n",
      " 1   Title              25795 non-null  object        \n",
      " 2   Popularity         25795 non-null  float64       \n",
      " 3   Vote_Count         25795 non-null  float64       \n",
      " 4   Vote_Average       25795 non-null  float64       \n",
      " 5   Original_Language  25795 non-null  object        \n",
      " 6   Genre              25795 non-null  category      \n",
      "dtypes: category(1), datetime64[ns](1), float64(3), object(2)\n",
      "memory usage: 1.2+ MB\n"
     ]
    }
   ],
   "source": [
    "df.info()"
   ]
  },
  {
   "cell_type": "markdown",
   "id": "fa17b48b",
   "metadata": {},
   "source": [
    "**#After some ETL let do some data visualization**"
   ]
  },
  {
   "cell_type": "code",
   "execution_count": 165,
   "id": "2da5cc6a",
   "metadata": {},
   "outputs": [
    {
     "name": "stderr",
     "output_type": "stream",
     "text": [
      "C:\\Users\\patha\\AppData\\Local\\Temp\\ipykernel_12880\\366435255.py:3: FutureWarning: \n",
      "\n",
      "Passing `palette` without assigning `hue` is deprecated and will be removed in v0.14.0. Assign the `y` variable to `hue` and set `legend=False` for the same effect.\n",
      "\n",
      "  sns.countplot(y='Genre', data=df, order=df['Genre'].value_counts().index, palette='coolwarm')\n"
     ]
    },
    {
     "data": {
      "image/png": "[encoded data removed]",
      "text/plain": [
       "<Figure size 640x480 with 1 Axes>"
      ]
     },
     "metadata": {},
     "output_type": "display_data"
    }
   ],
   "source": [
    "#  What is the most frequent genre of movies released on Netflix?\n",
    "\n",
    "sns.countplot(y='Genre', data=df, order=df['Genre'].value_counts().index, palette='coolwarm')\n",
    "plt.title('Most Frequent Genre of Movies Released on Netflix')\n",
    "plt.xlabel('Count')\n",
    "plt.ylabel('Genre')\n",
    "plt.show()\n"
   ]
  },
  {
   "cell_type": "markdown",
   "id": "a7018e71",
   "metadata": {},
   "source": [
    "Conclusion:-From the above Countplot graph we find out that Drama  genre is the most frequent genre in our dataset and has appeared more than14% of the times among 19 other genres"
   ]
  },
  {
   "cell_type": "code",
   "execution_count": 172,
   "id": "9fd6e8ec",
   "metadata": {},
   "outputs": [
    {
     "name": "stderr",
     "output_type": "stream",
     "text": [
      "C:\\Users\\patha\\AppData\\Local\\Temp\\ipykernel_12880\\3125624879.py:6: FutureWarning: \n",
      "\n",
      "Passing `palette` without assigning `hue` is deprecated and will be removed in v0.14.0. Assign the `x` variable to `hue` and set `legend=False` for the same effect.\n",
      "\n",
      "  sns.barplot(x='Genre', y='Vote_Average', data=df, palette='viridis')\n"
     ]
    },
    {
     "data": {
      "image/png": "[encoded data removed]",
      "text/plain": [
       "<Figure size 1000x600 with 1 Axes>"
      ]
     },
     "metadata": {},
     "output_type": "display_data"
    }
   ],
   "source": [
    "# Which has highest votes in vote avg column?\n",
    "\n",
    "plt.figure(figsize=(10, 6))\n",
    "sns.barplot(x='Genre', y='Vote_Average', data=df, palette='viridis')\n",
    "plt.title('Highest Votes in Vote Average Column')\n",
    "plt.xlabel('Vote Average')\n",
    "plt.xticks(rotation=90)\n",
    "plt.ylabel('Genre')\n",
    "plt.grid()\n",
    "\n"
   ]
  },
  {
   "cell_type": "code",
   "execution_count": 178,
   "id": "a4d37cf9",
   "metadata": {},
   "outputs": [
    {
     "name": "stdout",
     "output_type": "stream",
     "text": [
      "  Release_Date                    Title  Popularity  Vote_Count  Vote_Average  \\\n",
      "0   2021-12-15  Spider-Man: No Way Home    5083.954      8940.0           8.3   \n",
      "1   2021-12-15  Spider-Man: No Way Home    5083.954      8940.0           8.3   \n",
      "2   2021-12-15  Spider-Man: No Way Home    5083.954      8940.0           8.3   \n",
      "\n",
      "  Original_Language            Genre  Year  \n",
      "0                en           Action  2021  \n",
      "1                en        Adventure  2021  \n",
      "2                en  Science Fiction  2021  \n",
      "\n",
      "---------------------------------------------------------------\n",
      "\n",
      "\n",
      "The movie with the highest popularity is: Spider-Man: No Way Home\n",
      "The genre of the movie is: 0             Action\n",
      "1          Adventure\n",
      "2    Science Fiction\n",
      "Name: Genre, dtype: category\n",
      "Categories (20, object): ['Action', 'Adventure', 'Animation', 'Comedy', ..., 'Thriller', 'Unknown', 'War', 'Western']\n"
     ]
    }
   ],
   "source": [
    "# What movie got the highest popularity? what's its genre?\n",
    "highestpopular=df[df['Popularity'] == df['Popularity'].max()]\n",
    "print(highestpopular)\n",
    "print('\\n---------------------------------------------------------------')\n",
    "print(\"\\n\\nThe movie with the highest popularity is:\",highestpopular['Title'].values[0])\n",
    "print(\"The genre of the movie is:\", highestpopular['Genre'])\n"
   ]
  },
  {
   "cell_type": "markdown",
   "id": "27fc507c",
   "metadata": {},
   "source": [
    "Conclusion:-Fron above table we can see that Spider-Man: No Way Home  has the highest popularity rate in our dataset and it has genres of  Action , Adventure  and  Sience Fiction ."
   ]
  },
  {
   "cell_type": "code",
   "execution_count": 177,
   "id": "d7e3dd09",
   "metadata": {},
   "outputs": [
    {
     "name": "stdout",
     "output_type": "stream",
     "text": [
      "     Release_Date                  Title  Popularity  Vote_Count  \\\n",
      "3134   2013-10-20  Pixie Hollow Bake Off         0.0         0.0   \n",
      "3135   1900-01-01                Unknown         0.0         0.0   \n",
      "\n",
      "      Vote_Average Original_Language    Genre  Year  \n",
      "3134           0.0           Unknown  Unknown  2013  \n",
      "3135           0.0           Unknown  Unknown  1900  \n",
      "\n",
      "---------------------------------------------------------------\n",
      "\n",
      "\n",
      "The movie with the lowest popularity is: Pixie Hollow Bake Off\n",
      "The genre of the movie is: Unknown\n"
     ]
    }
   ],
   "source": [
    "# What movie got the Lowest popularity? what's its genre?\n",
    "\n",
    "Lowest_popularity=df[df['Popularity']==df['Popularity'].min()]\n",
    "print(Lowest_popularity)\n",
    "print('\\n---------------------------------------------------------------')\n",
    "print(\"\\n\\nThe movie with the lowest popularity is:\", df[df['Popularity'] == df['Popularity'].min()]['Title'].values[0])\n",
    "print(\"The genre of the movie is:\", df[df['Popularity'] == df['Popularity'].min()]['Genre'].values[0])\n"
   ]
  },
  {
   "cell_type": "markdown",
   "id": "5aee7c28",
   "metadata": {},
   "source": [
    "Conclusion:-Fron above table we can see that  Pixie Hollow Bake Off has the Lowest popularity rate in our dataset and it has genres of Unknown"
   ]
  },
  {
   "cell_type": "code",
   "execution_count": 169,
   "id": "a23fb716",
   "metadata": {},
   "outputs": [
    {
     "data": {
      "image/png": "[encoded data removed]",
      "text/plain": [
       "<Figure size 1200x600 with 1 Axes>"
      ]
     },
     "metadata": {},
     "output_type": "display_data"
    }
   ],
   "source": [
    "# Which year has the most filmmed movies?\n",
    "\n",
    "df['Release_Date'] = pd.to_datetime(df['Release_Date'], errors='coerce')\n",
    "df['Year'] = df['Release_Date'].dt.year\n",
    "df['Year'].value_counts().sort_index().plot(kind='line', figsize=(12, 6), color='skyblue')\n",
    "plt.title('Number of Movies Released Each Year')\n",
    "plt.xlabel('Year')\n",
    "plt.ylabel('Number of Movies')\n",
    "plt.xticks(rotation=90)\n",
    "plt.grid(axis='y')\n",
    "plt.show()\n"
   ]
  },
  {
   "cell_type": "markdown",
   "id": "24646431",
   "metadata": {},
   "source": [
    "Conclusion:-From above line graph we can see that year  2020  has the highest filmming rate in our dataset."
   ]
  }
 ],
 "metadata": {
  "kernelspec": {
   "display_name": "Python 3",
   "language": "python",
   "name": "python3"
  },
  "language_info": {
   "codemirror_mode": {
    "name": "ipython",
    "version": 3
   },
   "file_extension": ".py",
   "mimetype": "text/x-python",
   "name": "python",
   "nbconvert_exporter": "python",
   "pygments_lexer": "ipython3",
   "version": "3.13.1"
  }
 },
 "nbformat": 4,
 "nbformat_minor": 5
}
